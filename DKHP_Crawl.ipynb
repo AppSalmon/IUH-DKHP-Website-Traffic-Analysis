{
 "cells": [
  {
   "cell_type": "code",
   "execution_count": 1,
   "metadata": {
    "_cell_guid": "b1076dfc-b9ad-4769-8c92-a6c4dae69d19",
    "_uuid": "8f2839f25d086af736a60e9eeb907d3b93b6e0e5",
    "execution": {
     "iopub.execute_input": "2023-05-18T20:08:20.620006Z",
     "iopub.status.busy": "2023-05-18T20:08:20.619607Z",
     "iopub.status.idle": "2023-05-18T20:08:20.652591Z",
     "shell.execute_reply": "2023-05-18T20:08:20.651444Z",
     "shell.execute_reply.started": "2023-05-18T20:08:20.619976Z"
    }
   },
   "outputs": [],
   "source": [
    "data = []"
   ]
  },
  {
   "cell_type": "code",
   "execution_count": null,
   "metadata": {},
   "outputs": [],
   "source": [
    "import requests\n",
    "import re\n",
    "from bs4 import BeautifulSoup\n",
    "from time import sleep\n",
    "from datetime import datetime\n",
    "import pytz\n",
    "\n",
    "while True:\n",
    "    sleep(2)\n",
    "    url = \"https://dkhp.iuh.edu.vn/\"\n",
    "    response = requests.get(url)\n",
    "\n",
    "    if response.status_code == 200:\n",
    "        soup = BeautifulSoup(response.content, \"html.parser\")\n",
    "        pattern = r'Đang online:\\s*(\\d+)'\n",
    "        match = re.findall(pattern, str(soup))\n",
    "        hanoi = pytz.timezone('Asia/Ho_Chi_Minh')\n",
    "        now = datetime.now(hanoi)\n",
    "        current_time = now.strftime(\"%H:%M:%S\")\n",
    "        print(f\"Thời gian hiện tại {current_time}: {match[0]} lượt\")\n",
    "        data.append([current_time, match[0]])\n",
    "        \n",
    "        if current_time[:2] == \"09\":\n",
    "            break\n",
    "    else:\n",
    "        pass"
   ]
  },
  {
   "cell_type": "code",
   "execution_count": null,
   "metadata": {},
   "outputs": [],
   "source": [
    "print(data)"
   ]
  },
  {
   "cell_type": "code",
   "execution_count": null,
   "metadata": {},
   "outputs": [],
   "source": [
    "import pandas as pd\n",
    "df = pd.DataFrame(data, columns=['Time', 'Count'])\n",
    "print(df)"
   ]
  },
  {
   "cell_type": "code",
   "execution_count": null,
   "metadata": {},
   "outputs": [],
   "source": [
    "df.to_excel('data_dkhp.xlsx', index=False)"
   ]
  }
 ],
 "metadata": {
  "kernelspec": {
   "display_name": "Python 3 (ipykernel)",
   "language": "python",
   "name": "python3"
  },
  "language_info": {
   "codemirror_mode": {
    "name": "ipython",
    "version": 3
   },
   "file_extension": ".py",
   "mimetype": "text/x-python",
   "name": "python",
   "nbconvert_exporter": "python",
   "pygments_lexer": "ipython3",
   "version": "3.9.13"
  }
 },
 "nbformat": 4,
 "nbformat_minor": 4
}
